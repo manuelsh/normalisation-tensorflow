{
 "cells": [
  {
   "cell_type": "code",
   "execution_count": 12,
   "metadata": {},
   "outputs": [],
   "source": [
    "from tensorflow.examples.tutorials.mnist import input_data\n",
    "from tqdm import tqdm\n",
    "import time\n",
    "import matplotlib.pyplot as plt\n",
    "import numpy as np\n",
    "\n",
    "#from torchvision.datasets import MNIST\n",
    "from torch import nn\n",
    "from torch.nn.modules import BatchNorm1d\n",
    "import torch.nn.functional as F\n",
    "from torch.autograd import Variable\n",
    "import torch\n",
    "\n",
    "%matplotlib inline"
   ]
  },
  {
   "cell_type": "markdown",
   "metadata": {},
   "source": [
    "# MNIST Model"
   ]
  },
  {
   "cell_type": "code",
   "execution_count": 13,
   "metadata": {
    "scrolled": true
   },
   "outputs": [
    {
     "name": "stdout",
     "output_type": "stream",
     "text": [
      "Extracting MNIST_data/train-images-idx3-ubyte.gz\n",
      "Extracting MNIST_data/train-labels-idx1-ubyte.gz\n",
      "Extracting MNIST_data/t10k-images-idx3-ubyte.gz\n",
      "Extracting MNIST_data/t10k-labels-idx1-ubyte.gz\n"
     ]
    }
   ],
   "source": [
    "#mnist = MNIST('.', train=True, transform=None, target_transform=None, download=True)\n",
    "mnist = input_data.read_data_sets(\"MNIST_data/\", one_hot=False)"
   ]
  },
  {
   "cell_type": "code",
   "execution_count": 14,
   "metadata": {},
   "outputs": [],
   "source": [
    "class LayerNorm(nn.Module):\n",
    "\n",
    "    def __init__(self, features, eps=1e-6):\n",
    "        super().__init__()\n",
    "        self.gamma = nn.Parameter(torch.ones(features))\n",
    "        self.beta = nn.Parameter(torch.zeros(features))\n",
    "        self.eps = eps\n",
    "\n",
    "    def forward(self, x):\n",
    "        mean = x.mean(-1, keepdim=True)\n",
    "        std = x.std(-1, keepdim=True)\n",
    "        return self.gamma * (x - mean) / (std + self.eps) + self.beta"
   ]
  },
  {
   "cell_type": "code",
   "execution_count": 15,
   "metadata": {},
   "outputs": [],
   "source": [
    "# class CrossEntropy(torch.nn.Module):\n",
    "    \n",
    "#     def __init__(self):\n",
    "#         super(CrossEntropy, self).__init__()\n",
    "        \n",
    "#     def forward(self, y_pred, y_true):      \n",
    "#         y_ohe = Variable( torch.eye(10).index(y_true.data) )\n",
    "        \n",
    "#         return -torch.mean( torch.sum( y_ohe * torch.log(y_pred) + (1-y_ohe) * torch.log(1-y_pred) , \n",
    "#                               dim = 1, keepdim=False))"
   ]
  },
  {
   "cell_type": "code",
   "execution_count": 16,
   "metadata": {},
   "outputs": [],
   "source": [
    "class Model(nn.Module):\n",
    "    \n",
    "    def __init__(self, \n",
    "                 model_type,):\n",
    "        super(Model, self).__init__()\n",
    "        self.model_type = model_type\n",
    "        \n",
    "        self.dl_1 = nn.Linear(784, 100)\n",
    "        self.dl_2 = nn.Linear(100, 100)\n",
    "        self.dl_3 = nn.Linear(100, 100)\n",
    "        self.dl_4 = nn.Linear(100,10)\n",
    "        \n",
    "        if self.model_type == 'bn':\n",
    "            self.n_1 = BatchNorm1d(784)\n",
    "            self.n_2 = BatchNorm1d(100)\n",
    "            self.n_3 = BatchNorm1d(100)\n",
    "            self.n_4 = BatchNorm1d(100)\n",
    "            \n",
    "        if self.model_type == 'ln':\n",
    "            self.n_1 = LayerNorm(784)\n",
    "            self.n_2 = LayerNorm(100)\n",
    "            self.n_3 = LayerNorm(100)\n",
    "            self.n_4 = LayerNorm(100)\n",
    "        \n",
    "      #  self.loss_function = CrossEntropy()#torch.nn.BCELoss()\n",
    "        \n",
    "    def forward(self, x):\n",
    "        if self.model_type == 'normal':\n",
    "            x = F.relu(self.dl_1(x))\n",
    "            x = F.relu(self.dl_2(x))\n",
    "            x = F.relu(self.dl_3(x))\n",
    "            x = F.softmax(self.dl_4(x), dim = 1)\n",
    "        else:\n",
    "            x = F.relu(self.dl_1(self.n_1(x)))\n",
    "            x = F.relu(self.dl_2(self.n_2(x)))\n",
    "            x = F.relu(self.dl_3(self.n_3(x)))\n",
    "            x = F.softmax(self.dl_4(self.n_4(x)), dim = 1)\n",
    "        return x\n",
    "    \n",
    "    def loss(self, y_pred, y_true):      \n",
    "        y_ohe = Variable( torch.eye(10).index(y_true.data.cpu()).cuda() )\n",
    "        \n",
    "        return -torch.mean( torch.sum( y_ohe * torch.log(y_pred) , #+ (1-y_ohe) * torch.log(1-y_pred) , \n",
    "                              dim = 1, keepdim=False))\n",
    "\n",
    "    def accuracy(self, y_pred, y_true):\n",
    "        return torch.mean(torch.FloatTensor((torch.max(y_pred, 1)[1] == y_true).data.cpu().numpy()))\n",
    "        "
   ]
  },
  {
   "cell_type": "code",
   "execution_count": 29,
   "metadata": {},
   "outputs": [],
   "source": [
    "def training():\n",
    "    acc_values = []\n",
    "    time_stamps = []\n",
    "    last_time=0\n",
    "    optimiser = torch.optim.Adam(model.parameters())#,lr = 0.001)\n",
    "    for i in tqdm(range(1000)):\n",
    "        batch_xs, batch_ys = mnist.train.next_batch(128)\n",
    "        batch_xs = Variable(torch.cuda.FloatTensor(batch_xs), requires_grad=True)\n",
    "        batch_ys = Variable(torch.cuda.LongTensor(batch_ys))\n",
    "        \n",
    "        start_timer = time.time()\n",
    "        loss = model.loss( model(batch_xs), batch_ys)\n",
    "        optimiser.zero_grad()\n",
    "        loss.backward()\n",
    "        optimiser.step()\n",
    "        stop_timer = time.time()\n",
    "\n",
    "        x_test = Variable(torch.cuda.FloatTensor(mnist.test.images))\n",
    "        y_test = Variable(torch.cuda.LongTensor(mnist.test.labels))\n",
    "        acc_values.append(model.accuracy(model(x_test), y_test))\n",
    "       \n",
    "        last_time = last_time + (stop_timer - start_timer)\n",
    "        time_stamps.append(last_time)\n",
    "        #if i%10==0: print(float(loss))\n",
    "    return time_stamps, acc_values"
   ]
  },
  {
   "cell_type": "code",
   "execution_count": 30,
   "metadata": {
    "scrolled": false
   },
   "outputs": [
    {
     "name": "stderr",
     "output_type": "stream",
     "text": [
      "100%|██████████| 1000/1000 [00:18<00:00, 53.35it/s]\n",
      "100%|██████████| 1000/1000 [00:28<00:00, 34.53it/s]\n",
      "100%|██████████| 1000/1000 [00:26<00:00, 37.92it/s]\n"
     ]
    }
   ],
   "source": [
    "model = Model('normal').cuda()\n",
    "time_stamps_simple, acc_values_simple = training()\n",
    "\n",
    "model = Model('bn').cuda()\n",
    "time_stamps_bn, acc_values_bn = training()\n",
    "\n",
    "model = Model('ln').cuda()\n",
    "time_stamps_ln, acc_values_ln = training()"
   ]
  },
  {
   "cell_type": "code",
   "execution_count": 31,
   "metadata": {},
   "outputs": [],
   "source": [
    "accuracies = [0.6, 0.7, 0.8, 0.9]\n",
    "\n",
    "def get_steps_and_time(acc_values, time_stamps, accuracy_threshold):\n",
    "    steps = sum(np.array(acc_values) < accuracy_threshold)\n",
    "    time = time_stamps[steps-1]\n",
    "    return steps, time\n",
    "\n",
    "endings = ['simple', 'ln', 'bn']\n",
    "\n",
    "results_times = {}\n",
    "results_steps = {}\n",
    "for acc in accuracies:\n",
    "    results_times[acc] = {}\n",
    "    results_steps[acc] = {}\n",
    "    for end in endings:\n",
    "        step, time_spent = get_steps_and_time(eval('acc_values_'+end), eval('time_stamps_'+end), acc )\n",
    "        results_times[acc][end] = time_spent\n",
    "        results_steps[acc][end] = step"
   ]
  },
  {
   "cell_type": "code",
   "execution_count": 32,
   "metadata": {},
   "outputs": [
    {
     "data": {
      "text/html": [
       "<div>\n",
       "<style scoped>\n",
       "    .dataframe tbody tr th:only-of-type {\n",
       "        vertical-align: middle;\n",
       "    }\n",
       "\n",
       "    .dataframe tbody tr th {\n",
       "        vertical-align: top;\n",
       "    }\n",
       "\n",
       "    .dataframe thead th {\n",
       "        text-align: right;\n",
       "    }\n",
       "</style>\n",
       "<table border=\"1\" class=\"dataframe\">\n",
       "  <thead>\n",
       "    <tr style=\"text-align: right;\">\n",
       "      <th></th>\n",
       "      <th>bn</th>\n",
       "      <th>ln</th>\n",
       "      <th>simple</th>\n",
       "    </tr>\n",
       "  </thead>\n",
       "  <tbody>\n",
       "    <tr>\n",
       "      <th>0.6</th>\n",
       "      <td>0.014459</td>\n",
       "      <td>0.018021</td>\n",
       "      <td>0.045431</td>\n",
       "    </tr>\n",
       "    <tr>\n",
       "      <th>0.7</th>\n",
       "      <td>0.025562</td>\n",
       "      <td>0.027221</td>\n",
       "      <td>0.057212</td>\n",
       "    </tr>\n",
       "    <tr>\n",
       "      <th>0.8</th>\n",
       "      <td>0.053490</td>\n",
       "      <td>0.058607</td>\n",
       "      <td>0.095484</td>\n",
       "    </tr>\n",
       "    <tr>\n",
       "      <th>0.9</th>\n",
       "      <td>0.152221</td>\n",
       "      <td>0.197496</td>\n",
       "      <td>0.312856</td>\n",
       "    </tr>\n",
       "  </tbody>\n",
       "</table>\n",
       "</div>"
      ],
      "text/plain": [
       "           bn        ln    simple\n",
       "0.6  0.014459  0.018021  0.045431\n",
       "0.7  0.025562  0.027221  0.057212\n",
       "0.8  0.053490  0.058607  0.095484\n",
       "0.9  0.152221  0.197496  0.312856"
      ]
     },
     "execution_count": 32,
     "metadata": {},
     "output_type": "execute_result"
    }
   ],
   "source": [
    "import pandas as pd\n",
    "pd.DataFrame(results_times).T"
   ]
  },
  {
   "cell_type": "code",
   "execution_count": 33,
   "metadata": {},
   "outputs": [
    {
     "data": {
      "text/html": [
       "<div>\n",
       "<style scoped>\n",
       "    .dataframe tbody tr th:only-of-type {\n",
       "        vertical-align: middle;\n",
       "    }\n",
       "\n",
       "    .dataframe tbody tr th {\n",
       "        vertical-align: top;\n",
       "    }\n",
       "\n",
       "    .dataframe thead th {\n",
       "        text-align: right;\n",
       "    }\n",
       "</style>\n",
       "<table border=\"1\" class=\"dataframe\">\n",
       "  <thead>\n",
       "    <tr style=\"text-align: right;\">\n",
       "      <th></th>\n",
       "      <th>bn</th>\n",
       "      <th>ln</th>\n",
       "      <th>simple</th>\n",
       "    </tr>\n",
       "  </thead>\n",
       "  <tbody>\n",
       "    <tr>\n",
       "      <th>0.6</th>\n",
       "      <td>5</td>\n",
       "      <td>4</td>\n",
       "      <td>22</td>\n",
       "    </tr>\n",
       "    <tr>\n",
       "      <th>0.7</th>\n",
       "      <td>9</td>\n",
       "      <td>6</td>\n",
       "      <td>28</td>\n",
       "    </tr>\n",
       "    <tr>\n",
       "      <th>0.8</th>\n",
       "      <td>19</td>\n",
       "      <td>13</td>\n",
       "      <td>47</td>\n",
       "    </tr>\n",
       "    <tr>\n",
       "      <th>0.9</th>\n",
       "      <td>54</td>\n",
       "      <td>44</td>\n",
       "      <td>156</td>\n",
       "    </tr>\n",
       "  </tbody>\n",
       "</table>\n",
       "</div>"
      ],
      "text/plain": [
       "     bn  ln  simple\n",
       "0.6   5   4      22\n",
       "0.7   9   6      28\n",
       "0.8  19  13      47\n",
       "0.9  54  44     156"
      ]
     },
     "execution_count": 33,
     "metadata": {},
     "output_type": "execute_result"
    }
   ],
   "source": [
    "pd.DataFrame(results_steps).T"
   ]
  },
  {
   "cell_type": "code",
   "execution_count": 34,
   "metadata": {},
   "outputs": [
    {
     "data": {
      "text/plain": [
       "<matplotlib.legend.Legend at 0x7f6634dbe6d8>"
      ]
     },
     "execution_count": 34,
     "metadata": {},
     "output_type": "execute_result"
    },
    {
     "data": {
      "image/png": "[encoded data removed]",
      "text/plain": [
       "<matplotlib.figure.Figure at 0x7f66378cb588>"
      ]
     },
     "metadata": {},
     "output_type": "display_data"
    }
   ],
   "source": [
    "# Comparing moment functions in CPU and GPUplt.plot(acc_values_simple, label=\"Simple\")\n",
    "plt.plot(acc_values_ln, label='LN')\n",
    "plt.plot(acc_values_bn, label='BN')\n",
    "plt.legend()"
   ]
  },
  {
   "cell_type": "code",
   "execution_count": 35,
   "metadata": {
    "scrolled": true
   },
   "outputs": [
    {
     "data": {
      "text/plain": [
       "(0, 150)"
      ]
     },
     "execution_count": 35,
     "metadata": {},
     "output_type": "execute_result"
    },
    {
     "data": {
      "image/png": "[encoded data removed]",
      "text/plain": [
       "<matplotlib.figure.Figure at 0x7f6634dd24e0>"
      ]
     },
     "metadata": {},
     "output_type": "display_data"
    }
   ],
   "source": [
    "plt.plot(acc_values_simple, label=\"Simple\")\n",
    "plt.plot(acc_values_ln, label='LN')\n",
    "plt.plot(acc_values_bn, label='BN')\n",
    "plt.legend()\n",
    "plt.xlim([0,150])"
   ]
  },
  {
   "cell_type": "code",
   "execution_count": 36,
   "metadata": {
    "scrolled": false
   },
   "outputs": [
    {
     "data": {
      "text/plain": [
       "<matplotlib.legend.Legend at 0x7f6633725cc0>"
      ]
     },
     "execution_count": 36,
     "metadata": {},
     "output_type": "execute_result"
    },
    {
     "data": {
      "image/png": "[encoded data removed]",
      "text/plain": [
       "<matplotlib.figure.Figure at 0x7f663374e438>"
      ]
     },
     "metadata": {},
     "output_type": "display_data"
    }
   ],
   "source": [
    "plt.plot(time_stamps_simple, acc_values_simple, label=\"Simple\")\n",
    "plt.plot(time_stamps_ln, acc_values_ln, label='LN')\n",
    "plt.plot(time_stamps_bn, acc_values_bn, label='BN')\n",
    "plt.legend()"
   ]
  },
  {
   "cell_type": "code",
   "execution_count": 37,
   "metadata": {},
   "outputs": [
    {
     "data": {
      "text/plain": [
       "(0, 1)"
      ]
     },
     "execution_count": 37,
     "metadata": {},
     "output_type": "execute_result"
    },
    {
     "data": {
      "image/png": "[encoded data removed]",
      "text/plain": [
       "<matplotlib.figure.Figure at 0x7f663374a358>"
      ]
     },
     "metadata": {},
     "output_type": "display_data"
    }
   ],
   "source": [
    "plt.plot(time_stamps_simple, acc_values_simple, label=\"Simple\")\n",
    "plt.plot(time_stamps_ln, acc_values_ln, label='LN')\n",
    "plt.plot(time_stamps_bn, acc_values_bn, label='BN')\n",
    "plt.legend()\n",
    "plt.xlim([0,1])"
   ]
  }
 ],
 "metadata": {
  "kernelspec": {
   "display_name": "Python 3",
   "language": "python",
   "name": "python3"
  },
  "language_info": {
   "codemirror_mode": {
    "name": "ipython",
    "version": 3
   },
   "file_extension": ".py",
   "mimetype": "text/x-python",
   "name": "python",
   "nbconvert_exporter": "python",
   "pygments_lexer": "ipython3",
   "version": "3.5.2"
  }
 },
 "nbformat": 4,
 "nbformat_minor": 2
}
