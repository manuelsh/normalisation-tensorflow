{
 "cells": [
  {
   "cell_type": "code",
   "execution_count": 1,
   "metadata": {},
   "outputs": [],
   "source": [
    "import tensorflow as tf\n",
    "from tensorflow.examples.tutorials.mnist import input_data\n",
    "from tqdm import tqdm\n",
    "import time\n",
    "import matplotlib.pyplot as plt\n",
    "import numpy as np\n",
    "import math\n",
    "\n",
    "%matplotlib inline"
   ]
  },
  {
   "cell_type": "code",
   "execution_count": 2,
   "metadata": {},
   "outputs": [
    {
     "data": {
      "text/plain": [
       "'1.5.0'"
      ]
     },
     "execution_count": 2,
     "metadata": {},
     "output_type": "execute_result"
    }
   ],
   "source": [
    "tf.__version__"
   ]
  },
  {
   "cell_type": "markdown",
   "metadata": {},
   "source": [
    "# MNIST MODEL"
   ]
  },
  {
   "cell_type": "code",
   "execution_count": 2,
   "metadata": {
    "scrolled": true
   },
   "outputs": [
    {
     "name": "stdout",
     "output_type": "stream",
     "text": [
      "Extracting MNIST_data/train-images-idx3-ubyte.gz\n",
      "Extracting MNIST_data/train-labels-idx1-ubyte.gz\n",
      "Extracting MNIST_data/t10k-images-idx3-ubyte.gz\n",
      "Extracting MNIST_data/t10k-labels-idx1-ubyte.gz\n"
     ]
    }
   ],
   "source": [
    "mnist = input_data.read_data_sets(\"MNIST_data/\", one_hot=True)"
   ]
  },
  {
   "cell_type": "code",
   "execution_count": 3,
   "metadata": {},
   "outputs": [],
   "source": [
    "def graph(norm):\n",
    "    tf.reset_default_graph()\n",
    "    x = tf.placeholder(tf.float32, [None, 784])\n",
    "    delta = 1. / math.sqrt(100)\n",
    "    delta2 = 1. / math.sqrt(10)\n",
    "    \n",
    "    with tf.device('/gpu:0'):\n",
    "        if norm=='ln':\n",
    "            with tf.variable_scope(\"dense_0\"):\n",
    "\n",
    "                dl_1 = tf.layers.dense(tf.contrib.layers.layer_norm(x),100, activation=tf.nn.relu, \n",
    "                                      kernel_initializer=tf.random_uniform_initializer(-delta, delta),\n",
    "                                      bias_initializer=tf.random_uniform_initializer(-delta, delta))\n",
    "            with tf.variable_scope(\"dense_1\"):\n",
    "                dl_2 = tf.layers.dense(tf.contrib.layers.layer_norm(dl_1), 100, activation=tf.nn.relu, \n",
    "                                      kernel_initializer=tf.random_uniform_initializer(-delta, delta),\n",
    "                                      bias_initializer=tf.random_uniform_initializer(-delta, delta))\n",
    "            with tf.variable_scope(\"dense_2\"):\n",
    "                dl_3 = tf.layers.dense(tf.contrib.layers.layer_norm(dl_2), 100, activation=tf.nn.relu, \n",
    "                                      kernel_initializer=tf.random_uniform_initializer(-delta, delta),\n",
    "                                      bias_initializer=tf.random_uniform_initializer(-delta, delta))\n",
    "            with tf.variable_scope(\"output\"):\n",
    "                y = tf.nn.softmax(tf.layers.dense( tf.contrib.layers.layer_norm(dl_3), 10, \n",
    "                                      kernel_initializer=tf.random_uniform_initializer(-delta2, delta2),\n",
    "                                      bias_initializer=tf.random_uniform_initializer(-delta2, delta2)))\n",
    "\n",
    "        if norm=='bn':\n",
    "            with tf.variable_scope(\"dense_0\"):\n",
    "                dl_1 = tf.layers.dense(tf.layers.batch_normalization(x), 100, activation=tf.nn.relu, \n",
    "                                      kernel_initializer=tf.random_uniform_initializer(-delta, delta),\n",
    "                                      bias_initializer=tf.random_uniform_initializer(-delta, delta))\n",
    "            with tf.variable_scope(\"dense_1\"):\n",
    "                dl_2 = tf.layers.dense(tf.layers.batch_normalization(dl_1), 100, activation=tf.nn.relu, \n",
    "                                      kernel_initializer=tf.random_uniform_initializer(-delta, delta),\n",
    "                                      bias_initializer=tf.random_uniform_initializer(-delta, delta))\n",
    "            with tf.variable_scope(\"dense_2\"):\n",
    "                dl_3 = tf.layers.dense(tf.layers.batch_normalization(dl_2), 100, activation=tf.nn.relu, \n",
    "                                      kernel_initializer=tf.random_uniform_initializer(-delta, delta),\n",
    "                                      bias_initializer=tf.random_uniform_initializer(-delta, delta))\n",
    "            with tf.variable_scope(\"output\"):\n",
    "                y = tf.nn.softmax(tf.layers.dense(tf.layers.batch_normalization(dl_3), 10, \n",
    "                                      kernel_initializer=tf.random_uniform_initializer(-delta2, delta2),\n",
    "                                      bias_initializer=tf.random_uniform_initializer(-delta2, delta2)))\n",
    "\n",
    "        if norm == 'none':\n",
    "            with tf.variable_scope(\"dense_0\"):\n",
    "                dl_1 = tf.layers.dense(x, 100, activation=tf.nn.relu, \n",
    "                                      kernel_initializer=tf.random_uniform_initializer(-delta, delta),\n",
    "                                      bias_initializer=tf.random_uniform_initializer(-delta, delta))\n",
    "            with tf.variable_scope(\"dense_1\"):\n",
    "                dl_2 = tf.layers.dense(dl_1, 100, activation=tf.nn.relu, \n",
    "                                      kernel_initializer=tf.random_uniform_initializer(-delta, delta),\n",
    "                                      bias_initializer=tf.random_uniform_initializer(-delta, delta))\n",
    "            with tf.variable_scope(\"dense_2\"):\n",
    "                dl_3 = tf.layers.dense(dl_2, 100, activation=tf.nn.relu, \n",
    "                                      kernel_initializer=tf.random_uniform_initializer(-delta, delta),\n",
    "                                      bias_initializer=tf.random_uniform_initializer(-delta, delta))\n",
    "            with tf.variable_scope(\"output\"):\n",
    "                y = tf.nn.softmax(tf.layers.dense(dl_3,10, \n",
    "                                      kernel_initializer=tf.random_uniform_initializer(-delta, delta),\n",
    "                                      bias_initializer=tf.random_uniform_initializer(-delta, delta) )) \n",
    "\n",
    "        labels = tf.placeholder(tf.float32, [None, 10])\n",
    "        cross_entropy = -tf.reduce_mean(tf.reduce_sum(labels * tf.log(y), reduction_indices=[1])) #+\\\n",
    "                                      #tf.reduce_sum((1-labels) * tf.log(1-y), reduction_indices=[1]))\n",
    "        train_step = tf.train.AdamOptimizer().minimize(cross_entropy)\n",
    "\n",
    "        correct_prediction = tf.equal(tf.argmax(y,1), tf.argmax(labels,1))\n",
    "        accuracy = tf.reduce_mean(tf.cast(correct_prediction, tf.float32))\n",
    "        print(np.sum([np.prod(v.shape) for v in tf.trainable_variables()]))\n",
    "    return x, y, labels, train_step, accuracy"
   ]
  },
  {
   "cell_type": "code",
   "execution_count": 4,
   "metadata": {},
   "outputs": [],
   "source": [
    "def training():\n",
    "    init_op = tf.global_variables_initializer()\n",
    "    #sess = tf.Session()\n",
    "    sess = tf.Session( config = tf.ConfigProto(allow_soft_placement = True, log_device_placement = True) )\n",
    "    sess.run(init_op)\n",
    "    \n",
    "    #training_writer = tf.summary.FileWriter('/server/code/ad-hoc/layer-normalisation/tensorboard/mnist_v4')\n",
    "    #training_writer.add_graph(sess.graph)\n",
    "\n",
    "    \n",
    "    acc_values = []\n",
    "    real_predicted_values = []\n",
    "    time_stamps = []\n",
    "    last_time=0\n",
    "    for i in tqdm(range(1000)):\n",
    "        batch_xs, batch_ys = mnist.train.next_batch(128)\n",
    "        \n",
    "        start_timer = time.time()\n",
    "        sess.run(train_step, feed_dict={x: batch_xs, labels: batch_ys})\n",
    "        stop_timer = time.time()\n",
    "        \n",
    "#         if i % 99 == 0:\n",
    "            \n",
    "#             run_options = tf.RunOptions(trace_level=tf.RunOptions.FULL_TRACE)\n",
    "#             run_metadata = tf.RunMetadata()\n",
    "#             sess.run(train_step, feed_dict={x: batch_xs, labels: batch_ys}, run_metadata=run_metadata, options=run_options)\n",
    "#             training_writer.add_run_metadata(run_metadata, 'step%d' % i)\n",
    "        \n",
    "        acc_values.append(sess.run(accuracy, feed_dict={x: mnist.test.images, labels: mnist.test.labels}))\n",
    "        \n",
    "        real_predicted_values.append(sess.run([labels, tf.argmax(y,1)], feed_dict={x: mnist.test.images, labels: mnist.test.labels}))\n",
    "        \n",
    "        last_time = last_time + (stop_timer - start_timer)\n",
    "        time_stamps.append(last_time)\n",
    "        \n",
    "\n",
    "    return time_stamps, acc_values#, real_predicted_values"
   ]
  },
  {
   "cell_type": "code",
   "execution_count": 9,
   "metadata": {
    "scrolled": false
   },
   "outputs": [
    {
     "name": "stderr",
     "output_type": "stream",
     "text": [
      "  0%|          | 0/1000 [00:00<?, ?it/s]"
     ]
    },
    {
     "name": "stdout",
     "output_type": "stream",
     "text": [
      "101878\n"
     ]
    },
    {
     "name": "stderr",
     "output_type": "stream",
     "text": [
      "100%|██████████| 1000/1000 [02:20<00:00,  7.14it/s]\n",
      "  0%|          | 2/1000 [00:00<00:57, 17.48it/s]"
     ]
    },
    {
     "name": "stdout",
     "output_type": "stream",
     "text": [
      "99710\n"
     ]
    },
    {
     "name": "stderr",
     "output_type": "stream",
     "text": [
      "100%|██████████| 1000/1000 [01:30<00:00, 11.09it/s]\n",
      "  0%|          | 0/1000 [00:00<?, ?it/s]"
     ]
    },
    {
     "name": "stdout",
     "output_type": "stream",
     "text": [
      "101878\n"
     ]
    },
    {
     "name": "stderr",
     "output_type": "stream",
     "text": [
      "100%|██████████| 1000/1000 [01:45<00:00,  9.49it/s]\n"
     ]
    }
   ],
   "source": [
    "x, y, labels, train_step, accuracy = graph(norm='ln')\n",
    "time_stamps_ln, acc_values_ln = training()\n",
    "\n",
    "x, y, labels, train_step, accuracy = graph(norm='none')\n",
    "time_stamps_simple, acc_values_simple = training()\n",
    "\n",
    "x, y, labels, train_step, accuracy = graph(norm='bn')\n",
    "time_stamps_bn, acc_values_bn = training()"
   ]
  },
  {
   "cell_type": "code",
   "execution_count": 13,
   "metadata": {},
   "outputs": [],
   "source": [
    "accuracies = [0.6, 0.7, 0.8, 0.9]\n",
    "\n",
    "def get_steps_and_time(acc_values, time_stamps, accuracy_threshold):\n",
    "    steps = sum(np.array(acc_values) < accuracy_threshold)\n",
    "    time = time_stamps[steps-1]\n",
    "    return steps, time\n",
    "\n",
    "endings = ['simple', 'ln', 'bn']\n",
    "\n",
    "results_times = {}\n",
    "results_steps = {}\n",
    "for acc in accuracies:\n",
    "    results_times[acc] = {}\n",
    "    results_steps[acc] = {}\n",
    "    for end in endings:\n",
    "        step, time_spent = get_steps_and_time(eval('acc_values_'+end), eval('time_stamps_'+end), acc )\n",
    "        results_times[acc][end] = time_spent\n",
    "        results_steps[acc][end] = step"
   ]
  },
  {
   "cell_type": "code",
   "execution_count": 14,
   "metadata": {},
   "outputs": [
    {
     "data": {
      "text/html": [
       "<div>\n",
       "<style scoped>\n",
       "    .dataframe tbody tr th:only-of-type {\n",
       "        vertical-align: middle;\n",
       "    }\n",
       "\n",
       "    .dataframe tbody tr th {\n",
       "        vertical-align: top;\n",
       "    }\n",
       "\n",
       "    .dataframe thead th {\n",
       "        text-align: right;\n",
       "    }\n",
       "</style>\n",
       "<table border=\"1\" class=\"dataframe\">\n",
       "  <thead>\n",
       "    <tr style=\"text-align: right;\">\n",
       "      <th></th>\n",
       "      <th>bn</th>\n",
       "      <th>ln</th>\n",
       "      <th>simple</th>\n",
       "    </tr>\n",
       "  </thead>\n",
       "  <tbody>\n",
       "    <tr>\n",
       "      <th>0.6</th>\n",
       "      <td>0.108215</td>\n",
       "      <td>0.126155</td>\n",
       "      <td>0.080780</td>\n",
       "    </tr>\n",
       "    <tr>\n",
       "      <th>0.7</th>\n",
       "      <td>0.138418</td>\n",
       "      <td>0.146885</td>\n",
       "      <td>0.092059</td>\n",
       "    </tr>\n",
       "    <tr>\n",
       "      <th>0.8</th>\n",
       "      <td>0.183650</td>\n",
       "      <td>0.202904</td>\n",
       "      <td>0.127575</td>\n",
       "    </tr>\n",
       "    <tr>\n",
       "      <th>0.9</th>\n",
       "      <td>0.376593</td>\n",
       "      <td>0.505856</td>\n",
       "      <td>0.365901</td>\n",
       "    </tr>\n",
       "  </tbody>\n",
       "</table>\n",
       "</div>"
      ],
      "text/plain": [
       "           bn        ln    simple\n",
       "0.6  0.108215  0.126155  0.080780\n",
       "0.7  0.138418  0.146885  0.092059\n",
       "0.8  0.183650  0.202904  0.127575\n",
       "0.9  0.376593  0.505856  0.365901"
      ]
     },
     "execution_count": 14,
     "metadata": {},
     "output_type": "execute_result"
    }
   ],
   "source": [
    "import pandas as pd\n",
    "pd.DataFrame(results_times).T"
   ]
  },
  {
   "cell_type": "code",
   "execution_count": 15,
   "metadata": {},
   "outputs": [
    {
     "data": {
      "text/html": [
       "<div>\n",
       "<style scoped>\n",
       "    .dataframe tbody tr th:only-of-type {\n",
       "        vertical-align: middle;\n",
       "    }\n",
       "\n",
       "    .dataframe tbody tr th {\n",
       "        vertical-align: top;\n",
       "    }\n",
       "\n",
       "    .dataframe thead th {\n",
       "        text-align: right;\n",
       "    }\n",
       "</style>\n",
       "<table border=\"1\" class=\"dataframe\">\n",
       "  <thead>\n",
       "    <tr style=\"text-align: right;\">\n",
       "      <th></th>\n",
       "      <th>bn</th>\n",
       "      <th>ln</th>\n",
       "      <th>simple</th>\n",
       "    </tr>\n",
       "  </thead>\n",
       "  <tbody>\n",
       "    <tr>\n",
       "      <th>0.6</th>\n",
       "      <td>10</td>\n",
       "      <td>5</td>\n",
       "      <td>20</td>\n",
       "    </tr>\n",
       "    <tr>\n",
       "      <th>0.7</th>\n",
       "      <td>18</td>\n",
       "      <td>8</td>\n",
       "      <td>24</td>\n",
       "    </tr>\n",
       "    <tr>\n",
       "      <th>0.8</th>\n",
       "      <td>30</td>\n",
       "      <td>17</td>\n",
       "      <td>37</td>\n",
       "    </tr>\n",
       "    <tr>\n",
       "      <th>0.9</th>\n",
       "      <td>81</td>\n",
       "      <td>66</td>\n",
       "      <td>118</td>\n",
       "    </tr>\n",
       "  </tbody>\n",
       "</table>\n",
       "</div>"
      ],
      "text/plain": [
       "     bn  ln  simple\n",
       "0.6  10   5      20\n",
       "0.7  18   8      24\n",
       "0.8  30  17      37\n",
       "0.9  81  66     118"
      ]
     },
     "execution_count": 15,
     "metadata": {},
     "output_type": "execute_result"
    }
   ],
   "source": [
    "pd.DataFrame(results_steps).T"
   ]
  },
  {
   "cell_type": "code",
   "execution_count": 12,
   "metadata": {},
   "outputs": [
    {
     "data": {
      "text/plain": [
       "<matplotlib.legend.Legend at 0x7fe484554ba8>"
      ]
     },
     "execution_count": 12,
     "metadata": {},
     "output_type": "execute_result"
    },
    {
     "data": {
      "image/png": "[encoded data removed]",
      "text/plain": [
       "<matplotlib.figure.Figure at 0x7fe484504320>"
      ]
     },
     "metadata": {},
     "output_type": "display_data"
    }
   ],
   "source": [
    "plt.plot(acc_values_simple, label=\"Simple\")\n",
    "plt.plot(acc_values_ln, label='LN')\n",
    "plt.plot(acc_values_bn, label='BN')\n",
    "plt.legend()"
   ]
  },
  {
   "cell_type": "code",
   "execution_count": 13,
   "metadata": {},
   "outputs": [
    {
     "data": {
      "text/plain": [
       "(0, 150)"
      ]
     },
     "execution_count": 13,
     "metadata": {},
     "output_type": "execute_result"
    },
    {
     "data": {
      "image/png": "[encoded data removed]",
      "text/plain": [
       "<matplotlib.figure.Figure at 0x7fe3fe2af978>"
      ]
     },
     "metadata": {},
     "output_type": "display_data"
    }
   ],
   "source": [
    "plt.plot(acc_values_simple, label=\"Simple\")\n",
    "plt.plot(acc_values_ln, label='LN')\n",
    "plt.plot(acc_values_bn, label='BN')\n",
    "plt.legend()\n",
    "plt.xlim([0,150])"
   ]
  },
  {
   "cell_type": "code",
   "execution_count": 14,
   "metadata": {
    "scrolled": false
   },
   "outputs": [
    {
     "data": {
      "text/plain": [
       "<matplotlib.legend.Legend at 0x7fe47698def0>"
      ]
     },
     "execution_count": 14,
     "metadata": {},
     "output_type": "execute_result"
    },
    {
     "data": {
      "image/png": "[encoded data removed]",
      "text/plain": [
       "<matplotlib.figure.Figure at 0x7fe3fd382668>"
      ]
     },
     "metadata": {},
     "output_type": "display_data"
    }
   ],
   "source": [
    "plt.plot(time_stamps_simple, acc_values_simple, label=\"Simple\")\n",
    "plt.plot(time_stamps_ln, acc_values_ln, label='LN')\n",
    "plt.plot(time_stamps_bn, acc_values_bn, label='BN')\n",
    "plt.legend()"
   ]
  },
  {
   "cell_type": "code",
   "execution_count": 15,
   "metadata": {},
   "outputs": [
    {
     "data": {
      "text/plain": [
       "(0, 1)"
      ]
     },
     "execution_count": 15,
     "metadata": {},
     "output_type": "execute_result"
    },
    {
     "data": {
      "image/png": "[encoded data removed]",
      "text/plain": [
       "<matplotlib.figure.Figure at 0x7fe3fd57a978>"
      ]
     },
     "metadata": {},
     "output_type": "display_data"
    }
   ],
   "source": [
    "plt.plot(time_stamps_simple, acc_values_simple, label=\"Simple\")\n",
    "plt.plot(time_stamps_ln, acc_values_ln, label='LN')\n",
    "plt.plot(time_stamps_bn, acc_values_bn, label='BN')\n",
    "plt.legend()\n",
    "plt.xlim([0,1])"
   ]
  }
 ],
 "metadata": {
  "kernelspec": {
   "display_name": "Python 3",
   "language": "python",
   "name": "python3"
  },
  "language_info": {
   "codemirror_mode": {
    "name": "ipython",
    "version": 3
   },
   "file_extension": ".py",
   "mimetype": "text/x-python",
   "name": "python",
   "nbconvert_exporter": "python",
   "pygments_lexer": "ipython3",
   "version": "3.5.2"
  }
 },
 "nbformat": 4,
 "nbformat_minor": 2
}
